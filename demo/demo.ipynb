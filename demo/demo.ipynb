{
 "cells": [
  {
   "cell_type": "markdown",
   "metadata": {},
   "source": [
    "# nbforms Demo Notebook\n",
    "\n",
    "The nbforms package allows you to have interactive questions in Jupyter Notebooks that is designed to allow immediate usage of collected data.\n",
    "\n",
    "### Setup\n",
    "\n",
    "Before using nbforms, you must provide a config file. The default location of the config file is `./nbforms_config.py`; the cell below loads the config file for this notebook for your perusal."
   ]
  },
  {
   "cell_type": "code",
   "execution_count": null,
   "metadata": {},
   "outputs": [],
   "source": [
    "with open(\"./nbforms_config.json\") as f:\n",
    "    print(f.read())"
   ]
  },
  {
   "cell_type": "markdown",
   "metadata": {},
   "source": [
    "nbforms requires a server to collect responses. The cells below clone the nbforms server repo, start a local development server that you can use for this notebook, and perform some setup tasks in the server instance's database."
   ]
  },
  {
   "cell_type": "code",
   "execution_count": null,
   "metadata": {},
   "outputs": [],
   "source": [
    "%%bash --bg --out sh_out --err sh_err\n",
    "if ! [ -d nbforms-server ]; then git clone https://github.com/chrispyles/nbforms-server; fi\n",
    "cd nbforms-server\n",
    "CREATE=\"false\"\n",
    "if ! [ -d .venv ]; then python -m venv .venv; CREATE=\"true\"; fi\n",
    "source .venv/bin/activate\n",
    "if [ $CREATE = \"true\" ]; then pip install -qr requirements.txt; fi\n",
    "flask --app nbforms_server run --port 8000"
   ]
  },
  {
   "cell_type": "code",
   "execution_count": null,
   "metadata": {},
   "outputs": [],
   "source": [
    "# Only run this cell once. It will show you the output from the bash script in the cell above, which\n",
    "# is running in a background process.\n",
    "\n",
    "import asyncio\n",
    "from IPython.display import Pretty\n",
    "\n",
    "async def reader(stream, d):\n",
    "    text = \"\"\n",
    "    while not stream.at_eof():\n",
    "        text += (await stream.readline()).decode()\n",
    "        d.update(Pretty(text))\n",
    "\n",
    "d1, d2 = display(display_id=\"stream-1\"), display(display_id=\"stream-2\")\n",
    "asyncio.create_task(reader(sh_out, d1))\n",
    "asyncio.create_task(reader(sh_err, d2));"
   ]
  },
  {
   "cell_type": "code",
   "execution_count": null,
   "metadata": {},
   "outputs": [],
   "source": [
    "%%bash\n",
    "cd nbforms-server\n",
    "source .venv/bin/activate\n",
    "python -m nbforms_server attendance open attendance-open --create"
   ]
  },
  {
   "cell_type": "markdown",
   "metadata": {},
   "source": [
    "### Usage\n",
    "\n",
    "To use nbforms, create a `Form` instance. This will load the config file and ask the use to authenticate with the server, generating an API token for this notebook session. Since the server has no users, a user will be created with whatever credentials you enter."
   ]
  },
  {
   "cell_type": "code",
   "execution_count": null,
   "metadata": {},
   "outputs": [],
   "source": [
    "import nbforms\n",
    "form = nbforms.Form()"
   ]
  },
  {
   "cell_type": "markdown",
   "metadata": {},
   "source": [
    "To ask a user to respond to a question, call `Form.ask`  with the question _identifier(s)_ as its argument(s). The widget generated will have a \"Submit\" button which will send a request to your nbforms server that will record the user's response. `Form.ask` can accept multiple arguments and will display a widget for each identifier you pass it. If you pass no arguments, it will display all the questions.\n",
    "\n",
    "nbforms allows multiple choice (with one or many selections), text, and paragraph responses. An example of each is given below."
   ]
  },
  {
   "cell_type": "code",
   "execution_count": null,
   "metadata": {},
   "outputs": [],
   "source": [
    "form.ask()"
   ]
  },
  {
   "cell_type": "markdown",
   "metadata": {},
   "source": [
    "#### Extracting Data from the Server\n",
    "\n",
    "When retrieving the data from the server, nbforms allows you to collect the data into a datascience `Table` or a pandas `DataFrame`. To get the data from the server, use `Form.to_table` or `Form.to_df` and provide the question identifiers you would like to select. The optional `user_hashes` tells the server whether or not to include an randomly generated hash of each username in the CSV. *In order to protect user data, you cannot retrieve the usernames of users in the CSV.*"
   ]
  },
  {
   "cell_type": "code",
   "execution_count": null,
   "metadata": {},
   "outputs": [],
   "source": [
    "form.to_table()"
   ]
  },
  {
   "cell_type": "code",
   "execution_count": null,
   "metadata": {},
   "outputs": [],
   "source": [
    "form.to_df(\"q1\", \"q4\", \"q5\", user_hashes=True)"
   ]
  },
  {
   "cell_type": "markdown",
   "metadata": {},
   "source": [
    "**Important:** The server route that these methods use to retrieve the data requires no authentication. This means that anyone with the server URL will be able to download any of the data in the responses provided by users. Be very careful about what kind of data you ask users to input to the server; it should not be used to store things like [PII](https://en.wikipedia.org/wiki/Personal_data)."
   ]
  },
  {
   "cell_type": "markdown",
   "metadata": {},
   "source": [
    "### Taking Attendance\n",
    "\n",
    "nbforms can be used to take attendance in classes, allowing you to open and close a notebook for attendance tracking. This is done by including an `attendance` key in the config file set to `true`. This will then allow students to run `Form.take_attendance` which will log their attendance on the server."
   ]
  },
  {
   "cell_type": "code",
   "execution_count": null,
   "metadata": {},
   "outputs": [],
   "source": [
    "with open(\"attendance_open_config.json\") as f:\n",
    "    print(\"OPEN ATTENDANCE:\")\n",
    "    print(f.read()[:100])\n",
    "    \n",
    "print(\"\\n\")\n",
    "\n",
    "with open(\"attendance_closed_config.json\") as f:\n",
    "    print(\"CLOSED ATTENDANCE:\")\n",
    "    print(f.read()[:100])"
   ]
  },
  {
   "cell_type": "markdown",
   "metadata": {},
   "source": [
    "We instantiate them below and take attendance on each one."
   ]
  },
  {
   "cell_type": "code",
   "execution_count": null,
   "metadata": {},
   "outputs": [],
   "source": [
    "always_open = nbforms.Form(\"attendance_open_config.json\")\n",
    "always_open.take_attendance()"
   ]
  },
  {
   "cell_type": "code",
   "execution_count": null,
   "metadata": {},
   "outputs": [],
   "source": [
    "always_closed = nbforms.Form(\"attendance_closed_config.json\")\n",
    "always_closed.take_attendance()"
   ]
  },
  {
   "cell_type": "markdown",
   "metadata": {},
   "source": [
    "Attendance is always logged, so even if an attendance form is closed, a student will not know and this will be included in the attendance report."
   ]
  },
  {
   "cell_type": "markdown",
   "metadata": {},
   "source": [
    "Using the server's CLI, you can run reports for users, notebooks, responses, and attendance."
   ]
  },
  {
   "cell_type": "code",
   "execution_count": null,
   "metadata": {},
   "outputs": [],
   "source": [
    "%%bash\n",
    "cd nbforms-server\n",
    "source .venv/bin/activate\n",
    "echo \"Responses report for notebook 1:\" && echo\n",
    "python -m nbforms_server reports responses 1"
   ]
  },
  {
   "cell_type": "code",
   "execution_count": null,
   "metadata": {},
   "outputs": [],
   "source": [
    "%%bash\n",
    "cd nbforms-server\n",
    "source .venv/bin/activate\n",
    "echo \"Attendance report for notebook attendance-open:\" && echo\n",
    "python -m nbforms_server reports attendance attendance-open"
   ]
  },
  {
   "cell_type": "code",
   "execution_count": null,
   "metadata": {},
   "outputs": [],
   "source": [
    "%%bash\n",
    "cd nbforms-server\n",
    "source .venv/bin/activate\n",
    "echo \"Attendance report for notebook attendance-closed:\" && echo\n",
    "python -m nbforms_server reports attendance attendance-closed"
   ]
  },
  {
   "cell_type": "markdown",
   "metadata": {},
   "source": [
    " "
   ]
  }
 ],
 "metadata": {
  "@webio": {
   "lastCommId": null,
   "lastKernelId": null
  },
  "kernelspec": {
   "display_name": "Python 3 (ipykernel)",
   "language": "python",
   "name": "python3"
  },
  "language_info": {
   "codemirror_mode": {
    "name": "ipython",
    "version": 3
   },
   "file_extension": ".py",
   "mimetype": "text/x-python",
   "name": "python",
   "nbconvert_exporter": "python",
   "pygments_lexer": "ipython3",
   "version": "3.11.7"
  },
  "varInspector": {
   "cols": {
    "lenName": 16,
    "lenType": 16,
    "lenVar": 40
   },
   "kernels_config": {
    "python": {
     "delete_cmd_postfix": "",
     "delete_cmd_prefix": "del ",
     "library": "var_list.py",
     "varRefreshCmd": "print(var_dic_list())"
    },
    "r": {
     "delete_cmd_postfix": ") ",
     "delete_cmd_prefix": "rm(",
     "library": "var_list.r",
     "varRefreshCmd": "cat(var_dic_list()) "
    }
   },
   "types_to_exclude": [
    "module",
    "function",
    "builtin_function_or_method",
    "instance",
    "_Feature"
   ],
   "window_display": false
  }
 },
 "nbformat": 4,
 "nbformat_minor": 4
}
