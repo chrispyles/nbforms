{
 "cells": [
  {
   "cell_type": "markdown",
   "metadata": {},
   "source": [
    "# nbforms Demo Notebook\n",
    "\n",
    "The nbforms package allows you to have interactive questions in Jupyter Notebooks that is designed to allow immediate usage of collected data. It requires you to have deployed an [`nbforms-server`](https://github.com/chrispyles/nbforms-server); the demo server is located at https://nbforms-demo-server.herokuapp.com.\n",
    "\n",
    "### Setup\n",
    "\n",
    "Before using nbforms, you must provide a config file. The default location of the config file is `./nbforms_config.py`; the cell below loads the config file for this notebook for your perusal."
   ]
  },
  {
   "cell_type": "code",
   "execution_count": 10,
   "metadata": {},
   "outputs": [
    {
     "name": "stdout",
     "output_type": "stream",
     "text": [
      "{\n",
      "  \"server_url\": \"https://nbforms-demo-server.herokuapp.com/\",\n",
      "  \"notebook\": 1,\n",
      "  \"attendance\": true,\n",
      "  \"questions\": [\n",
      "    {\n",
      "      \"identifier\": \"q1\",\n",
      "      \"type\": \"multiplechoice\",\n",
      "      \"question\": \"Which of the following is a noble gas?\",\n",
      "      \"options\": [\n",
      "        \"Helium\",\n",
      "        \"Chlorine\",\n",
      "        \"Oxygen\",\n",
      "        \"Lithium\"\n",
      "      ]\n",
      "    }, {\n",
      "      \"identifier\": \"q2\",\n",
      "      \"type\": \"checkbox\",\n",
      "      \"data_type\": \"str\",\n",
      "      \"question\": \"Which of the following is a noble gas?\",\n",
      "      \"options\": [\n",
      "        \"Helium\",\n",
      "        \"Chlorine\",\n",
      "        \"Oxygen\",\n",
      "        \"Lithium\",\n",
      "        \"Neon\",\n",
      "        \"Zync\"\n",
      "      ]\n",
      "    }, {\n",
      "      \"identifier\": \"q3\",\n",
      "      \"type\": \"text\",\n",
      "      \"question\": \"Name a noble gas.\"\n",
      "    }, {\n",
      "      \"identifier\": \"q4\",\n",
      "      \"type\": \"paragraph\",\n",
      "      \"question\": \"List the noble gases.\",\n",
      "      \"placeholder\": \"Type here\"\n",
      "    }, {\n",
      "      \"identifier\": \"q5\",\n",
      "      \"type\": \"text\",\n",
      "      \"question\": \"What is 75% of 5?\"\n",
      "    }\n",
      "  ]\n",
      "}\n",
      "\n"
     ]
    }
   ],
   "source": [
    "with open(\"./nbforms_config.json\") as f:\n",
    "    print(f.read())"
   ]
  },
  {
   "cell_type": "markdown",
   "metadata": {},
   "source": [
    "### Usage\n",
    "\n",
    "To use nbforms, create a `Form` instance. This will load the config file and ask the use to authenticate with the server, generating an API token for this notebook session.\n",
    "\n",
    "**If a user has never authenticated before, the cell below will create their user, which they can then reuse on the server. There is no need to go to another page to create a user.** The rules for logins are:\n",
    "* If there is no user with the username provided, a new user is created with the provided password. Then, a new API key is generated and returned to the `Form` instance.\n",
    "* If there is a user with the username provided, the password provided is compared against the user's password. If this passes, a new API key is generated and returned to the `Form` instance.\n",
    "* If the passwords do not match, then the cell will throw an `AssertionError`."
   ]
  },
  {
   "cell_type": "code",
   "execution_count": 11,
   "metadata": {},
   "outputs": [],
   "source": [
    "import nbforms\n",
    "form = nbforms.Form()"
   ]
  },
  {
   "cell_type": "markdown",
   "metadata": {},
   "source": [
    "It is also possible to use a Google account to authenticate. To do this, specify an `auth` key in your `nbforms_config.json` file with the value set to `google`:"
   ]
  },
  {
   "cell_type": "code",
   "execution_count": 12,
   "metadata": {},
   "outputs": [
    {
     "name": "stdout",
     "output_type": "stream",
     "text": [
      "{\n",
      "  \"server_url\": \"https://nbforms-demo-server.herokuapp.com/\",\n",
      "  \"notebook\": 1,\n",
      "  \"auth\": \"google\",\n",
      "  \"attendance\": true,\n",
      "  \"questions\": [\n",
      "    {\n",
      "      \"identifier\": \"q1\",\n",
      "      \"type\": \"multiplechoic\n"
     ]
    }
   ],
   "source": [
    "with open(\"nbforms_config_google.json\") as f:\n",
    "    print(f.read()[:200])"
   ]
  },
  {
   "cell_type": "markdown",
   "metadata": {},
   "source": [
    "When users sign in with Google, they will be asked to open a link to the nbforms server where they will authenticate with Google and then to copy their API key and input it here in the notebook. You can try this process below."
   ]
  },
  {
   "cell_type": "code",
   "execution_count": 13,
   "metadata": {},
   "outputs": [],
   "source": [
    "google_auth_form = nbforms.Form(\"nbforms_config_google.json\")"
   ]
  },
  {
   "cell_type": "markdown",
   "metadata": {},
   "source": [
    "To ask a user to respond to a question, call `Form.ask`  with the question _identifier_ as its argument. The widget generated will have a \"Submit\" button which will send a POST request to your nbforms server that will record the user's response. `Form.ask` can accept multiple arguments and will display a widget for each identifier you pass it. If you pass no arguments, it will display all the widgets.\n",
    "\n",
    "nbforms allows multiple choice (with one or many selections), text, and paragraph responses. An example of each is given below."
   ]
  },
  {
   "cell_type": "code",
   "execution_count": 14,
   "metadata": {},
   "outputs": [
    {
     "data": {
      "application/vnd.jupyter.widget-view+json": {
       "model_id": "3520955007e544859d14b4a2e4bbdb5e",
       "version_major": 2,
       "version_minor": 0
      },
      "text/plain": [
       "VBox(children=(VBox(children=(VBox(children=(Label(value='Which of the following is a noble gas?'), RadioButto…"
      ]
     },
     "metadata": {},
     "output_type": "display_data"
    }
   ],
   "source": [
    "form.ask(\"q1\")"
   ]
  },
  {
   "cell_type": "code",
   "execution_count": 15,
   "metadata": {},
   "outputs": [
    {
     "data": {
      "application/vnd.jupyter.widget-view+json": {
       "model_id": "7ee9107dceeb4136b3fea551d13d3776",
       "version_major": 2,
       "version_minor": 0
      },
      "text/plain": [
       "VBox(children=(VBox(children=(VBox(children=(Label(value='Which of the following is a noble gas?'), SelectMult…"
      ]
     },
     "metadata": {},
     "output_type": "display_data"
    }
   ],
   "source": [
    "form.ask(\"q2\", \"q3\")"
   ]
  },
  {
   "cell_type": "code",
   "execution_count": 16,
   "metadata": {},
   "outputs": [
    {
     "data": {
      "application/vnd.jupyter.widget-view+json": {
       "model_id": "f0195237f9c74c05baeff9afd6c823fd",
       "version_major": 2,
       "version_minor": 0
      },
      "text/plain": [
       "VBox(children=(VBox(children=(VBox(children=(Label(value='Which of the following is a noble gas?'), RadioButto…"
      ]
     },
     "metadata": {},
     "output_type": "display_data"
    }
   ],
   "source": [
    "form.ask()"
   ]
  },
  {
   "cell_type": "markdown",
   "metadata": {},
   "source": [
    "#### Extracting Data from the Server\n",
    "\n",
    "When retrieving the data from the server, nbforms allows you to collect the data into a datascience `Table` or a pandas `DataFrame`. To get the data from the server, use `Form.to_table` or `Form.to_df` and provide the question identifiers you would like to select. The optional `user_hashes` tells the server whether or not to include an randomly generated hash of each username in the CSV. *In order to protect user data, you cannot retrieve the usernames of users in the CSV.*"
   ]
  },
  {
   "cell_type": "code",
   "execution_count": 17,
   "metadata": {},
   "outputs": [
    {
     "data": {
      "text/html": [
       "<table border=\"1\" class=\"dataframe\">\n",
       "    <thead>\n",
       "        <tr>\n",
       "            <th>q1</th> <th>q2</th> <th>q3</th> <th>q4</th> <th>q5</th>\n",
       "        </tr>\n",
       "    </thead>\n",
       "    <tbody>\n",
       "        <tr>\n",
       "            <td>Oxygen</td> <td>('Chlorine', 'Lithium')         </td> <td>dfwegf        </td> <td>lkjsg</td> <td>sdf                     </td>\n",
       "        </tr>\n",
       "        <tr>\n",
       "            <td>Oxygen</td> <td>('Helium',)                     </td> <td>something else</td> <td>nan  </td> <td>asefkl;wkldfk;lakwfdfsdd</td>\n",
       "        </tr>\n",
       "        <tr>\n",
       "            <td>Helium</td> <td>nan                             </td> <td>nan           </td> <td>nan  </td> <td>nan                     </td>\n",
       "        </tr>\n",
       "        <tr>\n",
       "            <td>Helium</td> <td>('Helium', 'Chlorine', 'Oxygen')</td> <td>nan           </td> <td>nan  </td> <td>nan                     </td>\n",
       "        </tr>\n",
       "        <tr>\n",
       "            <td>Helium</td> <td>('Helium',)                     </td> <td>Helium        </td> <td>nan  </td> <td>2.8                     </td>\n",
       "        </tr>\n",
       "        <tr>\n",
       "            <td>Helium</td> <td>('Helium',)                     </td> <td>nan           </td> <td>nan  </td> <td>nan                     </td>\n",
       "        </tr>\n",
       "        <tr>\n",
       "            <td>Helium</td> <td>nan                             </td> <td>nan           </td> <td>nan  </td> <td>nan                     </td>\n",
       "        </tr>\n",
       "    </tbody>\n",
       "</table>"
      ],
      "text/plain": [
       "q1     | q2                               | q3             | q4    | q5\n",
       "Oxygen | ('Chlorine', 'Lithium')          | dfwegf         | lkjsg | sdf\n",
       "Oxygen | ('Helium',)                      | something else | nan   | asefkl;wkldfk;lakwfdfsdd\n",
       "Helium | nan                              | nan            | nan   | nan\n",
       "Helium | ('Helium', 'Chlorine', 'Oxygen') | nan            | nan   | nan\n",
       "Helium | ('Helium',)                      | Helium         | nan   | 2.8\n",
       "Helium | ('Helium',)                      | nan            | nan   | nan\n",
       "Helium | nan                              | nan            | nan   | nan"
      ]
     },
     "execution_count": 17,
     "metadata": {},
     "output_type": "execute_result"
    }
   ],
   "source": [
    "form.to_table(\"q1\", \"q2\", \"q3\", \"q4\", \"q5\")"
   ]
  },
  {
   "cell_type": "code",
   "execution_count": 18,
   "metadata": {
    "scrolled": true
   },
   "outputs": [
    {
     "data": {
      "text/html": [
       "<div>\n",
       "<style scoped>\n",
       "    .dataframe tbody tr th:only-of-type {\n",
       "        vertical-align: middle;\n",
       "    }\n",
       "\n",
       "    .dataframe tbody tr th {\n",
       "        vertical-align: top;\n",
       "    }\n",
       "\n",
       "    .dataframe thead th {\n",
       "        text-align: right;\n",
       "    }\n",
       "</style>\n",
       "<table border=\"1\" class=\"dataframe\">\n",
       "  <thead>\n",
       "    <tr style=\"text-align: right;\">\n",
       "      <th></th>\n",
       "      <th>user</th>\n",
       "      <th>q1</th>\n",
       "      <th>q4</th>\n",
       "      <th>q5</th>\n",
       "    </tr>\n",
       "  </thead>\n",
       "  <tbody>\n",
       "    <tr>\n",
       "      <th>0</th>\n",
       "      <td>09c4f878f46c3ec</td>\n",
       "      <td>Oxygen</td>\n",
       "      <td>lkjsg</td>\n",
       "      <td>sdf</td>\n",
       "    </tr>\n",
       "    <tr>\n",
       "      <th>1</th>\n",
       "      <td>166e05ab4b3e44d</td>\n",
       "      <td>Oxygen</td>\n",
       "      <td>NaN</td>\n",
       "      <td>asefkl;wkldfk;lakwfdfsdd</td>\n",
       "    </tr>\n",
       "    <tr>\n",
       "      <th>2</th>\n",
       "      <td>3d0a8e500509333</td>\n",
       "      <td>Helium</td>\n",
       "      <td>NaN</td>\n",
       "      <td>NaN</td>\n",
       "    </tr>\n",
       "    <tr>\n",
       "      <th>3</th>\n",
       "      <td>dd420c24d4529d1</td>\n",
       "      <td>Helium</td>\n",
       "      <td>NaN</td>\n",
       "      <td>NaN</td>\n",
       "    </tr>\n",
       "    <tr>\n",
       "      <th>4</th>\n",
       "      <td>7c3680af2207899</td>\n",
       "      <td>Helium</td>\n",
       "      <td>NaN</td>\n",
       "      <td>2.8</td>\n",
       "    </tr>\n",
       "    <tr>\n",
       "      <th>5</th>\n",
       "      <td>0d7e1c882f10830</td>\n",
       "      <td>Helium</td>\n",
       "      <td>NaN</td>\n",
       "      <td>NaN</td>\n",
       "    </tr>\n",
       "    <tr>\n",
       "      <th>6</th>\n",
       "      <td>8556d704ee858d1</td>\n",
       "      <td>Helium</td>\n",
       "      <td>NaN</td>\n",
       "      <td>NaN</td>\n",
       "    </tr>\n",
       "  </tbody>\n",
       "</table>\n",
       "</div>"
      ],
      "text/plain": [
       "              user      q1     q4                        q5\n",
       "0  09c4f878f46c3ec  Oxygen  lkjsg                       sdf\n",
       "1  166e05ab4b3e44d  Oxygen    NaN  asefkl;wkldfk;lakwfdfsdd\n",
       "2  3d0a8e500509333  Helium    NaN                       NaN\n",
       "3  dd420c24d4529d1  Helium    NaN                       NaN\n",
       "4  7c3680af2207899  Helium    NaN                       2.8\n",
       "5  0d7e1c882f10830  Helium    NaN                       NaN\n",
       "6  8556d704ee858d1  Helium    NaN                       NaN"
      ]
     },
     "execution_count": 18,
     "metadata": {},
     "output_type": "execute_result"
    }
   ],
   "source": [
    "form.to_df(\"q1\", \"q4\", \"q5\", user_hashes=True)"
   ]
  },
  {
   "cell_type": "markdown",
   "metadata": {},
   "source": [
    "### Taking Attendance\n",
    "\n",
    "nbforms can be used to take attendance in classes using rake tasks on the Heroku app. This is done by including an `attendance` key in the config file set to `true`. This will then allow students to run `Form.take_attendance` which will log their attendance on the server.\n",
    "\n",
    "Attendance can be opened by running `rake attendance:open[NOTEBOOK_ID]` on the Heroku app, where `NOTEBOOK_ID` corresponds to the `notebook` parameter in your config file. There are two notebooks on the demo server, one which is always open and another that is always closed, on which you can take your attendance below."
   ]
  },
  {
   "cell_type": "code",
   "execution_count": 19,
   "metadata": {},
   "outputs": [
    {
     "name": "stdout",
     "output_type": "stream",
     "text": [
      "OPEN ATTENDANCE:\n",
      "{\n",
      "  \"server_url\": \"https://nbforms-demo-server.herokuapp.com/\",\n",
      "  \"notebook\": \"attendance-open\",\n",
      "  \"attendance\": true,\n",
      "  \"questions\": [\n",
      "    {\n",
      "      \"identifier\": \"q1\",\n",
      "      \"type\": \"multiplechoice\",\n",
      "\n",
      "\n",
      "\n",
      "CLOSED ATTENDANCE:\n",
      "{\n",
      "  \"server_url\": \"https://nbforms-demo-server.herokuapp.com/\",\n",
      "  \"notebook\": \"attendance-closed\",\n",
      "  \"attendance\": true,\n",
      "  \"questions\": [\n",
      "    {\n",
      "      \"identifier\": \"q1\",\n",
      "      \"type\": \"multiplechoice\"\n"
     ]
    }
   ],
   "source": [
    "with open(\"attendance_open_config.json\") as f:\n",
    "    print(\"OPEN ATTENDANCE:\")\n",
    "    print(f.read()[:200])\n",
    "    \n",
    "print(\"\\n\")\n",
    "\n",
    "with open(\"attendance_closed_config.json\") as f:\n",
    "    print(\"CLOSED ATTENDANCE:\")\n",
    "    print(f.read()[:200])"
   ]
  },
  {
   "cell_type": "markdown",
   "metadata": {},
   "source": [
    "We instantiate them below and take attendance on each one."
   ]
  },
  {
   "cell_type": "code",
   "execution_count": 20,
   "metadata": {},
   "outputs": [
    {
     "name": "stdout",
     "output_type": "stream",
     "text": [
      "Your attendance has been recorded.\n"
     ]
    }
   ],
   "source": [
    "always_open = nbforms.Form(\"attendance_open_config.json\")\n",
    "always_open.take_attendance()"
   ]
  },
  {
   "cell_type": "code",
   "execution_count": 21,
   "metadata": {},
   "outputs": [
    {
     "name": "stdout",
     "output_type": "stream",
     "text": [
      "Your attendance has been recorded.\n"
     ]
    }
   ],
   "source": [
    "always_closed = nbforms.Form(\"attendance_closed_config.json\")\n",
    "always_closed.take_attendance()"
   ]
  },
  {
   "cell_type": "markdown",
   "metadata": {},
   "source": [
    "Attendance is always logged, so even if an attendance form is closed, a student will not know and this will be included in the attendance report."
   ]
  },
  {
   "cell_type": "markdown",
   "metadata": {},
   "source": [
    " "
   ]
  }
 ],
 "metadata": {
  "@webio": {
   "lastCommId": null,
   "lastKernelId": null
  },
  "kernelspec": {
   "display_name": "Python 3",
   "language": "python",
   "name": "python3"
  },
  "language_info": {
   "codemirror_mode": {
    "name": "ipython",
    "version": 3
   },
   "file_extension": ".py",
   "mimetype": "text/x-python",
   "name": "python",
   "nbconvert_exporter": "python",
   "pygments_lexer": "ipython3",
   "version": "3.6.5"
  },
  "varInspector": {
   "cols": {
    "lenName": 16,
    "lenType": 16,
    "lenVar": 40
   },
   "kernels_config": {
    "python": {
     "delete_cmd_postfix": "",
     "delete_cmd_prefix": "del ",
     "library": "var_list.py",
     "varRefreshCmd": "print(var_dic_list())"
    },
    "r": {
     "delete_cmd_postfix": ") ",
     "delete_cmd_prefix": "rm(",
     "library": "var_list.r",
     "varRefreshCmd": "cat(var_dic_list()) "
    }
   },
   "types_to_exclude": [
    "module",
    "function",
    "builtin_function_or_method",
    "instance",
    "_Feature"
   ],
   "window_display": false
  }
 },
 "nbformat": 4,
 "nbformat_minor": 2
}
