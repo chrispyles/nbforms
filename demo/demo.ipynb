{
 "cells": [
  {
   "cell_type": "markdown",
   "metadata": {},
   "source": [
    "# nbforms Demo Notebook\n",
    "\n",
    "The nbforms package allows you to have interactive questions in Jupyter Notebooks that is designed to allow immediate usage of collected data. It requires you to have deployed an [`nbforms-server`](https://github.com/chrispyles/nbforms-server); the demo server is located at https://nbforms-demo-server.herokuapp.com.\n",
    "\n",
    "### Setup\n",
    "\n",
    "Before using nbforms, you must provide a config file. The default location of the config file is `./nbforms_config.py`; the cell below loads the config file for this notebook for your perusal."
   ]
  },
  {
   "cell_type": "code",
   "execution_count": null,
   "metadata": {},
   "outputs": [],
   "source": [
    "with open(\"./nbforms_config.json\") as f:\n",
    "    print(f.read())"
   ]
  },
  {
   "cell_type": "markdown",
   "metadata": {},
   "source": [
    "### Usage\n",
    "\n",
    "To use nbforms, create a `Form` instance. This will load the config file and ask the use to authenticate with the server, generating an API token for this notebook session.\n",
    "\n",
    "**If a user has never authenticated before, the cell below will create their user, which they can then reuse on the server. There is no need to go to another page to create a user.** The rules for logins are:\n",
    "* If there is no user with the username provided, a new user is created with the provided password. Then, a new API key is generated and returned to the `Form` instance.\n",
    "* If there is a user with the username provided, the password provided is compared against the user's password. If this passes, a new API key is generated and returned to the `Form` instance.\n",
    "* If the passwords do not match, then the cell will throw an `AssertionError`."
   ]
  },
  {
   "cell_type": "code",
   "execution_count": null,
   "metadata": {},
   "outputs": [],
   "source": [
    "import nbforms\n",
    "form = nbforms.Form()"
   ]
  },
  {
   "cell_type": "markdown",
   "metadata": {},
   "source": [
    "It is also possible to use a Google account to authenticate. To do this, specify an `auth` key in your `nbforms_config.json` file with the value set to `google`:"
   ]
  },
  {
   "cell_type": "code",
   "execution_count": null,
   "metadata": {},
   "outputs": [],
   "source": [
    "with open(\"nbforms_config_google.json\") as f:\n",
    "    print(f.read()[:200])"
   ]
  },
  {
   "cell_type": "markdown",
   "metadata": {},
   "source": [
    "When users sign in with Google, they will be asked to open a link to the nbforms server where they will authenticate with Google and then to copy their API key and input it here in the notebook. You can try this process below."
   ]
  },
  {
   "cell_type": "code",
   "execution_count": null,
   "metadata": {},
   "outputs": [],
   "source": [
    "google_auth_form = nbforms.Form(\"nbforms_config_google.json\")"
   ]
  },
  {
   "cell_type": "markdown",
   "metadata": {},
   "source": [
    "To ask a user to respond to a question, call `Form.ask`  with the question _identifier_ as its argument. The widget generated will have a \"Submit\" button which will send a POST request to your nbforms server that will record the user's response. `Form.ask` can accept multiple arguments and will display a widget for each identifier you pass it. If you pass no arguments, it will display all the widgets.\n",
    "\n",
    "nbforms allows multiple choice (with one or many selections), text, and paragraph responses. An example of each is given below."
   ]
  },
  {
   "cell_type": "code",
   "execution_count": null,
   "metadata": {},
   "outputs": [],
   "source": [
    "form.ask(\"q1\")"
   ]
  },
  {
   "cell_type": "code",
   "execution_count": null,
   "metadata": {},
   "outputs": [],
   "source": [
    "form.ask(\"q2\", \"q3\")"
   ]
  },
  {
   "cell_type": "code",
   "execution_count": null,
   "metadata": {},
   "outputs": [],
   "source": [
    "form.ask()"
   ]
  },
  {
   "cell_type": "markdown",
   "metadata": {},
   "source": [
    "#### Extracting Data from the Server\n",
    "\n",
    "When retrieving the data from the server, nbforms allows you to collect the data into a datascience `Table` or a pandas `DataFrame`. To get the data from the server, use `Form.to_table` or `Form.to_df` and provide the question identifiers you would like to select. The optional `user_hashes` tells the server whether or not to include an randomly generated hash of each username in the CSV. *In order to protect user data, you cannot retrieve the usernames of users in the CSV.*"
   ]
  },
  {
   "cell_type": "code",
   "execution_count": null,
   "metadata": {},
   "outputs": [],
   "source": [
    "form.to_table(\"q1\", \"q2\", \"q3\", \"q4\", \"q5\")"
   ]
  },
  {
   "cell_type": "code",
   "execution_count": null,
   "metadata": {
    "scrolled": true
   },
   "outputs": [],
   "source": [
    "form.to_df(\"q1\", \"q4\", \"q5\", user_hashes=True)"
   ]
  },
  {
   "cell_type": "markdown",
   "metadata": {},
   "source": [
    "### Taking Attendance\n",
    "\n",
    "nbforms can be used to take attendance in classes using rake tasks on the Heroku app. This is done by including an `attendance` key in the config file set to `true`. This will then allow students to run `Form.take_attendance` which will log their attendance on the server.\n",
    "\n",
    "Attendance can be opened by running `rake attendance:open[NOTEBOOK_ID]` on the Heroku app, where `NOTEBOOK_ID` corresponds to the `notebook` parameter in your config file. There are two notebooks on the demo server, one which is always open and another that is always closed, on which you can take your attendance below."
   ]
  },
  {
   "cell_type": "code",
   "execution_count": null,
   "metadata": {},
   "outputs": [],
   "source": [
    "with open(\"attendance_open_config.json\") as f:\n",
    "    print(\"OPEN ATTENDANCE:\")\n",
    "    print(f.read()[:200])\n",
    "    \n",
    "print(\"\\n\")\n",
    "\n",
    "with open(\"attendance_closed_config.json\") as f:\n",
    "    print(\"CLOSED ATTENDANCE:\")\n",
    "    print(f.read()[:200])"
   ]
  },
  {
   "cell_type": "markdown",
   "metadata": {},
   "source": [
    "We instantiate them below and take attendance on each one."
   ]
  },
  {
   "cell_type": "code",
   "execution_count": null,
   "metadata": {},
   "outputs": [],
   "source": [
    "always_open = nbforms.Form(\"attendance_open_config.json\")\n",
    "always_open.take_attendance()"
   ]
  },
  {
   "cell_type": "code",
   "execution_count": null,
   "metadata": {},
   "outputs": [],
   "source": [
    "always_closed = nbforms.Form(\"attendance_closed_config.json\")\n",
    "always_closed.take_attendance()"
   ]
  },
  {
   "cell_type": "markdown",
   "metadata": {},
   "source": [
    "Attendance is always logged, so even if an attendance form is closed, a student will not know and this will be included in the attendance report."
   ]
  },
  {
   "cell_type": "markdown",
   "metadata": {},
   "source": [
    " "
   ]
  }
 ],
 "metadata": {
  "@webio": {
   "lastCommId": null,
   "lastKernelId": null
  },
  "kernelspec": {
   "display_name": "Python 3",
   "language": "python",
   "name": "python3"
  },
  "language_info": {
   "codemirror_mode": {
    "name": "ipython",
    "version": 3
   },
   "file_extension": ".py",
   "mimetype": "text/x-python",
   "name": "python",
   "nbconvert_exporter": "python",
   "pygments_lexer": "ipython3",
   "version": "3.6.5"
  },
  "varInspector": {
   "cols": {
    "lenName": 16,
    "lenType": 16,
    "lenVar": 40
   },
   "kernels_config": {
    "python": {
     "delete_cmd_postfix": "",
     "delete_cmd_prefix": "del ",
     "library": "var_list.py",
     "varRefreshCmd": "print(var_dic_list())"
    },
    "r": {
     "delete_cmd_postfix": ") ",
     "delete_cmd_prefix": "rm(",
     "library": "var_list.r",
     "varRefreshCmd": "cat(var_dic_list()) "
    }
   },
   "types_to_exclude": [
    "module",
    "function",
    "builtin_function_or_method",
    "instance",
    "_Feature"
   ],
   "window_display": false
  }
 },
 "nbformat": 4,
 "nbformat_minor": 2
}
